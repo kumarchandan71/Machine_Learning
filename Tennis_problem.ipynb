{
 "cells": [
  {
   "cell_type": "markdown",
   "metadata": {},
   "source": [
    "## Tennis Problem"
   ]
  },
  {
   "cell_type": "markdown",
   "metadata": {},
   "source": [
    "#### Import Library"
   ]
  },
  {
   "cell_type": "code",
   "execution_count": 46,
   "metadata": {},
   "outputs": [],
   "source": [
    "import pandas as pd"
   ]
  },
  {
   "cell_type": "markdown",
   "metadata": {},
   "source": [
    "### Data"
   ]
  },
  {
   "cell_type": "markdown",
   "metadata": {},
   "source": [
    "#### Creating the dataset"
   ]
  },
  {
   "cell_type": "code",
   "execution_count": 47,
   "metadata": {},
   "outputs": [],
   "source": [
    "data = {\n",
    "    \"Day\": [\"D1\", \"D2\", \"D3\", \"D4\", \"D5\", \"D6\", \"D7\", \"D8\", \"D9\", \"D10\", \"D11\", \"D12\", \"D13\", \"D14\"],\n",
    "    \"Outlook\": [\"Sunny\", \"Sunny\", \"Overcast\", \"Rain\", \"Rain\", \"Rain\", \"Overcast\", \"Sunny\", \"Sunny\", \"Rain\", \"Sunny\", \"Overcast\", \"Overcast\", \"Rain\"],\n",
    "    \"Temperature\": [\"Hot\", \"Hot\", \"Hot\", \"Mild\", \"Cool\", \"Cool\", \"Cool\", \"Mild\", \"Cool\", \"Mild\", \"Mild\", \"Mild\", \"Hot\", \"Mild\"],\n",
    "    \"Humidity\": [\"High\", \"High\", \"High\", \"High\", \"Normal\", \"Normal\", \"Normal\", \"High\", \"Normal\", \"Normal\", \"Normal\", \"High\", \"Normal\", \"High\"],\n",
    "    \"Wind\": [\"Weak\", \"Strong\", \"Weak\", \"Weak\", \"Weak\", \"Strong\", \"Strong\", \"Weak\", \"Weak\", \"Weak\", \"Strong\", \"Strong\", \"Weak\", \"Strong\"],\n",
    "    \"PlayTennis\": [\"No\", \"No\", \"Yes\", \"Yes\", \"Yes\", \"No\", \"Yes\", \"No\", \"Yes\", \"Yes\", \"Yes\", \"Yes\", \"Yes\", \"No\"]\n",
    "}"
   ]
  },
  {
   "cell_type": "markdown",
   "metadata": {},
   "source": [
    "#### Converting the dictionary into a pandas dataframe"
   ]
  },
  {
   "cell_type": "code",
   "execution_count": 48,
   "metadata": {},
   "outputs": [
    {
     "data": {
      "text/html": [
       "<div>\n",
       "<style scoped>\n",
       "    .dataframe tbody tr th:only-of-type {\n",
       "        vertical-align: middle;\n",
       "    }\n",
       "\n",
       "    .dataframe tbody tr th {\n",
       "        vertical-align: top;\n",
       "    }\n",
       "\n",
       "    .dataframe thead th {\n",
       "        text-align: right;\n",
       "    }\n",
       "</style>\n",
       "<table border=\"1\" class=\"dataframe\">\n",
       "  <thead>\n",
       "    <tr style=\"text-align: right;\">\n",
       "      <th></th>\n",
       "      <th>Day</th>\n",
       "      <th>Outlook</th>\n",
       "      <th>Temperature</th>\n",
       "      <th>Humidity</th>\n",
       "      <th>Wind</th>\n",
       "      <th>PlayTennis</th>\n",
       "    </tr>\n",
       "  </thead>\n",
       "  <tbody>\n",
       "    <tr>\n",
       "      <th>0</th>\n",
       "      <td>D1</td>\n",
       "      <td>Sunny</td>\n",
       "      <td>Hot</td>\n",
       "      <td>High</td>\n",
       "      <td>Weak</td>\n",
       "      <td>No</td>\n",
       "    </tr>\n",
       "    <tr>\n",
       "      <th>1</th>\n",
       "      <td>D2</td>\n",
       "      <td>Sunny</td>\n",
       "      <td>Hot</td>\n",
       "      <td>High</td>\n",
       "      <td>Strong</td>\n",
       "      <td>No</td>\n",
       "    </tr>\n",
       "    <tr>\n",
       "      <th>2</th>\n",
       "      <td>D3</td>\n",
       "      <td>Overcast</td>\n",
       "      <td>Hot</td>\n",
       "      <td>High</td>\n",
       "      <td>Weak</td>\n",
       "      <td>Yes</td>\n",
       "    </tr>\n",
       "    <tr>\n",
       "      <th>3</th>\n",
       "      <td>D4</td>\n",
       "      <td>Rain</td>\n",
       "      <td>Mild</td>\n",
       "      <td>High</td>\n",
       "      <td>Weak</td>\n",
       "      <td>Yes</td>\n",
       "    </tr>\n",
       "    <tr>\n",
       "      <th>4</th>\n",
       "      <td>D5</td>\n",
       "      <td>Rain</td>\n",
       "      <td>Cool</td>\n",
       "      <td>Normal</td>\n",
       "      <td>Weak</td>\n",
       "      <td>Yes</td>\n",
       "    </tr>\n",
       "    <tr>\n",
       "      <th>5</th>\n",
       "      <td>D6</td>\n",
       "      <td>Rain</td>\n",
       "      <td>Cool</td>\n",
       "      <td>Normal</td>\n",
       "      <td>Strong</td>\n",
       "      <td>No</td>\n",
       "    </tr>\n",
       "    <tr>\n",
       "      <th>6</th>\n",
       "      <td>D7</td>\n",
       "      <td>Overcast</td>\n",
       "      <td>Cool</td>\n",
       "      <td>Normal</td>\n",
       "      <td>Strong</td>\n",
       "      <td>Yes</td>\n",
       "    </tr>\n",
       "    <tr>\n",
       "      <th>7</th>\n",
       "      <td>D8</td>\n",
       "      <td>Sunny</td>\n",
       "      <td>Mild</td>\n",
       "      <td>High</td>\n",
       "      <td>Weak</td>\n",
       "      <td>No</td>\n",
       "    </tr>\n",
       "    <tr>\n",
       "      <th>8</th>\n",
       "      <td>D9</td>\n",
       "      <td>Sunny</td>\n",
       "      <td>Cool</td>\n",
       "      <td>Normal</td>\n",
       "      <td>Weak</td>\n",
       "      <td>Yes</td>\n",
       "    </tr>\n",
       "    <tr>\n",
       "      <th>9</th>\n",
       "      <td>D10</td>\n",
       "      <td>Rain</td>\n",
       "      <td>Mild</td>\n",
       "      <td>Normal</td>\n",
       "      <td>Weak</td>\n",
       "      <td>Yes</td>\n",
       "    </tr>\n",
       "    <tr>\n",
       "      <th>10</th>\n",
       "      <td>D11</td>\n",
       "      <td>Sunny</td>\n",
       "      <td>Mild</td>\n",
       "      <td>Normal</td>\n",
       "      <td>Strong</td>\n",
       "      <td>Yes</td>\n",
       "    </tr>\n",
       "    <tr>\n",
       "      <th>11</th>\n",
       "      <td>D12</td>\n",
       "      <td>Overcast</td>\n",
       "      <td>Mild</td>\n",
       "      <td>High</td>\n",
       "      <td>Strong</td>\n",
       "      <td>Yes</td>\n",
       "    </tr>\n",
       "    <tr>\n",
       "      <th>12</th>\n",
       "      <td>D13</td>\n",
       "      <td>Overcast</td>\n",
       "      <td>Hot</td>\n",
       "      <td>Normal</td>\n",
       "      <td>Weak</td>\n",
       "      <td>Yes</td>\n",
       "    </tr>\n",
       "    <tr>\n",
       "      <th>13</th>\n",
       "      <td>D14</td>\n",
       "      <td>Rain</td>\n",
       "      <td>Mild</td>\n",
       "      <td>High</td>\n",
       "      <td>Strong</td>\n",
       "      <td>No</td>\n",
       "    </tr>\n",
       "  </tbody>\n",
       "</table>\n",
       "</div>"
      ],
      "text/plain": [
       "    Day   Outlook Temperature Humidity    Wind PlayTennis\n",
       "0    D1     Sunny         Hot     High    Weak         No\n",
       "1    D2     Sunny         Hot     High  Strong         No\n",
       "2    D3  Overcast         Hot     High    Weak        Yes\n",
       "3    D4      Rain        Mild     High    Weak        Yes\n",
       "4    D5      Rain        Cool   Normal    Weak        Yes\n",
       "5    D6      Rain        Cool   Normal  Strong         No\n",
       "6    D7  Overcast        Cool   Normal  Strong        Yes\n",
       "7    D8     Sunny        Mild     High    Weak         No\n",
       "8    D9     Sunny        Cool   Normal    Weak        Yes\n",
       "9   D10      Rain        Mild   Normal    Weak        Yes\n",
       "10  D11     Sunny        Mild   Normal  Strong        Yes\n",
       "11  D12  Overcast        Mild     High  Strong        Yes\n",
       "12  D13  Overcast         Hot   Normal    Weak        Yes\n",
       "13  D14      Rain        Mild     High  Strong         No"
      ]
     },
     "execution_count": 48,
     "metadata": {},
     "output_type": "execute_result"
    }
   ],
   "source": [
    "df=pd.DataFrame(data)\n",
    "df"
   ]
  },
  {
   "cell_type": "markdown",
   "metadata": {},
   "source": [
    "### Prediction using Naive Bayes estimation"
   ]
  },
  {
   "cell_type": "markdown",
   "metadata": {},
   "source": [
    "#### Step-1: Calculating prior probabilities \n",
    "      P(PlayTennis=Yes) and P(PlayTennis=No) "
   ]
  },
  {
   "cell_type": "code",
   "execution_count": 49,
   "metadata": {},
   "outputs": [],
   "source": [
    "def calculate_prior_probability(df, feature,target):\n",
    "    return len(df[df[feature]==target])/len(df)\n"
   ]
  },
  {
   "cell_type": "markdown",
   "metadata": {},
   "source": [
    "#### Step 2: Calculate likelihoods for each feature given PlayTennis=Yes and PlayTennis=No\n"
   ]
  },
  {
   "cell_type": "code",
   "execution_count": 50,
   "metadata": {},
   "outputs": [],
   "source": [
    "def caculate_likelihood(df, feature, value, target):\n",
    "    subset= df[df[\"PlayTennis\"]==target]\n",
    "    return len(subset[subset[feature]==value])/len(subset)\n"
   ]
  },
  {
   "cell_type": "markdown",
   "metadata": {},
   "source": [
    "To make a prediction using the Naive Bayes algorithm, you can use the `naive_bayes_prediction()` function. This function takes in the following parameters:\n",
    "\n",
    "- `df`: The pandas DataFrame containing the dataset.\n",
    "- `outlook`: The value of the \"Outlook\" feature for which you want to make a prediction.\n",
    "- `Temperature`: The value of the \"Temperature\" feature for which you want to make a prediction.\n",
    "- `humidity`: The value of the \"Humidity\" feature for which you want to make a prediction.\n",
    "- `wind`: The value of the \"Wind\" feature for which you want to make a prediction.\n",
    "\n",
    "Here's an example of how to use the `naive_bayes_prediction()` function:\n",
    "\n",
    "```python\n",
    "prediction = naive_bayes_prediction(df, \"Sunny\", \"Hot\", \"Normal\", \"Weak\")\n",
    "print(prediction)\n",
    "```\n",
    "\n",
    "This will print the predicted class (\"Yes\" or \"No\") based on the given feature values."
   ]
  },
  {
   "cell_type": "code",
   "execution_count": 66,
   "metadata": {},
   "outputs": [],
   "source": [
    "def naive_bayes_prediction(df, outlook, Temperature, humidity, wind):\n",
    "    P_Yes=calculate_prior_probability(df,\"PlayTennis\",\"Yes\")\n",
    "    P_No=calculate_prior_probability(df,\"PlayTennis\",\"No\")\n",
    "    \n",
    "    P_Outlook_Yes=caculate_likelihood(df, \"Outlook\", outlook, \"Yes\")\n",
    "    P_Temperature_Yes=caculate_likelihood(df, \"Temperature\", Temperature, \"Yes\")\n",
    "    P_Humidity_Yes=caculate_likelihood(df, \"Humidity\", humidity, \"Yes\")\n",
    "    P_Wind_Yes=caculate_likelihood(df, \"Wind\", wind, \"Yes\")\n",
    "\n",
    "    print(f\" P_Outlook_Yes= {P_Outlook_Yes}\")\n",
    "    print(f\" P_Temperature_Yes= {P_Temperature_Yes}\")\n",
    "    print(f\" P_Humidity_Yes= {P_Humidity_Yes}\")\n",
    "    print(f\" P_Wind_Yes= {P_Wind_Yes}\")\n",
    "    \n",
    "    \n",
    "    P_Outlook_No=caculate_likelihood(df, \"Outlook\", outlook, \"No\")\n",
    "    P_Temperature_No=caculate_likelihood(df, \"Temperature\", Temperature, \"No\")\n",
    "    P_Humidity_No=caculate_likelihood(df, \"Humidity\", humidity, \"No\")\n",
    "    P_Wind_No=caculate_likelihood(df, \"Wind\", wind, \"No\")\n",
    "\n",
    "    print(f\"P_Outlook_No= {P_Outlook_No}\")\n",
    "    print(f\"P_Temperature_No= {P_Temperature_No}\")\n",
    "    print(f\"P_Humidity_No= {P_Humidity_No}\")\n",
    "    print(f\"P_Wind_No= {P_Wind_No}\")\n",
    "\n",
    "    \n",
    "    P_Yes=P_Yes*P_Outlook_Yes*P_Temperature_Yes*P_Humidity_Yes*P_Wind_Yes\n",
    "    P_No=P_No*P_Outlook_No*P_Temperature_No*P_Humidity_No*P_Wind_No\n",
    "\n",
    "    print(f\"P_yes= {P_Yes} and P_No= {P_No}\")\n",
    "    \n",
    "    return \"Yes\" if P_Yes>P_No else \"No\""
   ]
  },
  {
   "cell_type": "code",
   "execution_count": 67,
   "metadata": {},
   "outputs": [
    {
     "name": "stdout",
     "output_type": "stream",
     "text": [
      " P_Outlook_Yes= 0.2222222222222222\n",
      " P_Temperature_Yes= 0.2222222222222222\n",
      " P_Humidity_Yes= 0.6666666666666666\n",
      " P_Wind_Yes= 0.6666666666666666\n",
      "P_Outlook_No= 0.6\n",
      "P_Temperature_No= 0.4\n",
      "P_Humidity_No= 0.2\n",
      "P_Wind_No= 0.4\n",
      "P_yes= 0.014109347442680775 and P_No= 0.006857142857142858\n"
     ]
    },
    {
     "data": {
      "text/plain": [
       "'Yes'"
      ]
     },
     "execution_count": 67,
     "metadata": {},
     "output_type": "execute_result"
    }
   ],
   "source": [
    "naive_bayes_prediction(df, \"Sunny\", \"Hot\", \"Normal\", \"Weak\")"
   ]
  },
  {
   "cell_type": "code",
   "execution_count": null,
   "metadata": {},
   "outputs": [],
   "source": []
  },
  {
   "cell_type": "code",
   "execution_count": 68,
   "metadata": {},
   "outputs": [],
   "source": [
    "class NaiveBayesClassifier:\n",
    "    def __init__(self, df):\n",
    "        self.df=df\n",
    "\n",
    "    def calculate_prior_probability(self, feature,target):\n",
    "        return len(self.df[self.df[feature]==target])/len(self.df)\n",
    "    \n",
    "    def caculate_likelihood(self, feature, value, target):\n",
    "        subset= self.df[self.df[\"PlayTennis\"]==target]\n",
    "        return len(subset[subset[feature]==value])/len(subset)\n",
    "    \n",
    "    def naive_bayes_prediction(self, outlook, Temperature, humidity, wind):\n",
    "        P_Yes=self.calculate_prior_probability(\"PlayTennis\",\"Yes\")\n",
    "        P_No=self.calculate_prior_probability(\"PlayTennis\",\"No\")\n",
    "        \n",
    "        P_Outlook_Yes=self.caculate_likelihood(\"Outlook\", outlook, \"Yes\")\n",
    "        P_Temperature_Yes=self.caculate_likelihood(\"Temperature\", Temperature, \"Yes\")\n",
    "        P_Humidity_Yes=self.caculate_likelihood(\"Humidity\", humidity, \"Yes\")\n",
    "        P_Wind_Yes=self.caculate_likelihood(\"Wind\", wind, \"Yes\")\n",
    "\n",
    "        print(f\" P_Outlook_Yes= {P_Outlook_Yes}\")\n",
    "        print(f\" P_Temperature_Yes= {P_Temperature_Yes}\")\n",
    "        print(f\" P_Humidity_Yes= {P_Humidity_Yes}\")\n",
    "        print(f\" P_Wind_Yes= {P_Wind_Yes}\")\n",
    "        \n",
    "        \n",
    "        P_Outlook_No=self.caculate_likelihood(\"Outlook\", outlook, \"No\")\n",
    "        P_Temperature_No=self.caculate_likelihood(\"Temperature\", Temperature, \"No\")\n",
    "        P_Humidity_No=self.caculate_likelihood(\"Humidity\", humidity, \"No\")\n",
    "        P_Wind_No=self.caculate_likelihood(\"Wind\", wind, \"No\")\n",
    "\n",
    "        print(f\"P_Outlook_No= {P_Outlook_No}\")\n",
    "        print(f\"P_Temperature_No= {P_Temperature_No}\")\n",
    "        print(f\"P_Humidity_No= {P_Humidity_No}\")\n",
    "        print(f\"P_Wind_No= {P_Wind_No}\")\n",
    "\n",
    "        \n",
    "        P_Yes=P_Yes*P_Outlook_Yes*P_Temperature_Yes*P_Humidity_Yes*P_Wind_Yes\n",
    "        P_No=P_No*P_Outlook_No*P_Temperature_No*P_Humidity_No*P_Wind_No\n",
    "\n",
    "        print(f\"P_yes= {P_Yes} and P_No= {P_No}\")\n",
    "        \n",
    "        return \"Yes\" if P_Yes>P_No else \"No\""
   ]
  },
  {
   "cell_type": "code",
   "execution_count": 74,
   "metadata": {},
   "outputs": [
    {
     "name": "stdout",
     "output_type": "stream",
     "text": [
      " P_Outlook_Yes= 0.3333333333333333\n",
      " P_Temperature_Yes= 0.2222222222222222\n",
      " P_Humidity_Yes= 0.3333333333333333\n",
      " P_Wind_Yes= 0.3333333333333333\n",
      "P_Outlook_No= 0.4\n",
      "P_Temperature_No= 0.4\n",
      "P_Humidity_No= 0.8\n",
      "P_Wind_No= 0.6\n",
      "P_yes= 0.005291005291005291 and P_No= 0.027428571428571438\n",
      "No\n"
     ]
    }
   ],
   "source": [
    "nv=NaiveBayesClassifier(df)\n",
    "prediction=nv.naive_bayes_prediction(\"Rain\", \"Hot\", \"High\", \"Strong\")\n",
    "print(prediction)"
   ]
  },
  {
   "cell_type": "code",
   "execution_count": null,
   "metadata": {},
   "outputs": [],
   "source": []
  }
 ],
 "metadata": {
  "kernelspec": {
   "display_name": "base",
   "language": "python",
   "name": "python3"
  },
  "language_info": {
   "codemirror_mode": {
    "name": "ipython",
    "version": 3
   },
   "file_extension": ".py",
   "mimetype": "text/x-python",
   "name": "python",
   "nbconvert_exporter": "python",
   "pygments_lexer": "ipython3",
   "version": "3.12.4"
  }
 },
 "nbformat": 4,
 "nbformat_minor": 2
}
